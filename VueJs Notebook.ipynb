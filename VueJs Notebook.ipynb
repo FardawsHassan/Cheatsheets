{
 "cells": [
  {
   "cell_type": "markdown",
   "metadata": {},
   "source": [
    "### Installation"
   ]
  },
  {
   "cell_type": "markdown",
   "metadata": {},
   "source": [
    "Using CDN:  \n",
    "<font color='grey'>include this script in head.</font>  \n",
    "<font color='grey'>Shouldn't use in real projects</font>"
   ]
  },
  {
   "cell_type": "code",
   "execution_count": null,
   "metadata": {},
   "outputs": [],
   "source": [
    "<script src=\"https://cdn.jsdelivr.net/npm/vue@2.6.14/dist/vue.js\"></script>"
   ]
  },
  {
   "cell_type": "markdown",
   "metadata": {},
   "source": [
    "Using NPM:  \n",
    "<font color='grey'>install Node</font>"
   ]
  },
  {
   "cell_type": "code",
   "execution_count": null,
   "metadata": {},
   "outputs": [],
   "source": [
    "# latest stable\n",
    "npm install vue"
   ]
  },
  {
   "cell_type": "markdown",
   "metadata": {},
   "source": [
    "Using CLI:"
   ]
  },
  {
   "cell_type": "code",
   "execution_count": null,
   "metadata": {},
   "outputs": [],
   "source": [
    "# do it once\n",
    "npm install -g @vue/cli"
   ]
  },
  {
   "cell_type": "markdown",
   "metadata": {},
   "source": [
    "<font color='maroon'>CLI commands...</font>  \n",
    "<font color='cadetblue'>Create application:</font><font color='grey'> vue create appName</font>  \n",
    "<font color='cadetblue'>Run app:</font><font color='grey'> npm run serve</font>  "
   ]
  },
  {
   "cell_type": "markdown",
   "metadata": {},
   "source": [
    "  "
   ]
  },
  {
   "cell_type": "markdown",
   "metadata": {},
   "source": [
    "Include vue script (app.js) at the last in html."
   ]
  },
  {
   "cell_type": "markdown",
   "metadata": {},
   "source": [
    "### File Structure"
   ]
  },
  {
   "cell_type": "markdown",
   "metadata": {},
   "source": [
    "<font color='maroon'>node_modules</font>   \n",
    "<font color='maroon'>public</font>   \n",
    "<font color='teal'>--- favicon.ico</font>  \n",
    "<font color='teal'>--- index.html</font>  \n",
    "<font color='maroon'>src</font>  \n",
    "--- <font color='maroon'>assets</font>   \n",
    "--- <font color='maroon'>components</font>  \n",
    "--- <font color='teal'> app.vue</font>  \n",
    "--- <font color='teal'> main.js</font>  \n",
    "<font color='teal'>- .gitignore</font>  \n",
    "<font color='teal'>- bable.config.js</font>  \n",
    "<font color='teal'>- package-lock.json</font>  \n",
    "<font color='teal'>- package.json</font>  \n",
    "<font color='teal'>- readme.md</font>  \n",
    "   \n",
    "         \n",
    "<font color='steelblue'>--> package.json must not be deleted. Contains all details,dependencies,plugin etc about app.</font>  \n",
    "<font color='steelblue'>--> package-lock.json keeps track of package versions precisely</font>  \n",
    "<font color='steelblue'>--> babel used to convert javascript code in compatible version</font>  \n",
    "<font color='steelblue'>--> src/app.vue is the top level componenet and other secondary components are in src/components/ folder</font>    \n",
    "<font color='steelblue'>--> public/index.html is the first html file that loads.</font>  \n",
    "<font color='steelblue'>--> src/main.js is the first javascript file that loads.</font>  "
   ]
  },
  {
   "cell_type": "markdown",
   "metadata": {},
   "source": [
    "main.js... \n",
    "- creates app from component ( using createapp function ) \n",
    "- mounts it on a div"
   ]
  },
  {
   "cell_type": "markdown",
   "metadata": {},
   "source": [
    "### Components"
   ]
  },
  {
   "cell_type": "markdown",
   "metadata": {},
   "source": [
    "**Structure of Components:**"
   ]
  },
  {
   "cell_type": "markdown",
   "metadata": {},
   "source": [
    "- template\n",
    "- script\n",
    "- style"
   ]
  },
  {
   "cell_type": "markdown",
   "metadata": {},
   "source": [
    "*Use another component...*  \n",
    "*import - register - use*  "
   ]
  },
  {
   "cell_type": "markdown",
   "metadata": {},
   "source": [
    "#### Component's Data properties and Functions"
   ]
  },
  {
   "cell_type": "code",
   "execution_count": null,
   "metadata": {},
   "outputs": [],
   "source": [
    "#define component's variables and functions in data function  \n",
    "export default{\n",
    "    #for data properties\n",
    "    data(){\n",
    "        return {\n",
    "            name: 'shuvro',\n",
    "            id: 180121;\n",
    "            #functions can also be declared like this\n",
    "            getName(){\n",
    "                return 'fardaws hassan'+this.name;\n",
    "            }\n",
    "        }\n",
    "    },\n",
    "    #for functions\n",
    "    methods:{\n",
    "        get_name(){\n",
    "            return 'fardaws';\n",
    "        },\n",
    "        info(){\n",
    "            #will return a json object\n",
    "            return {\n",
    "                name:'shuvro',\n",
    "                id:this.id,\n",
    "            }\n",
    "        }\n",
    "    }\n",
    "}"
   ]
  },
  {
   "cell_type": "markdown",
   "metadata": {},
   "source": [
    "#### Interpolation  \n",
    "{{ }}  \n",
    "<font color=\"teal\">for using variable, calculation, expression in template...</font>  \n",
    "<font color=\"teal\">values can be assigned in component variable through interpolation</font> ( can't do in angular )"
   ]
  },
  {
   "cell_type": "markdown",
   "metadata": {},
   "source": [
    "#### Events in components   "
   ]
  },
  {
   "cell_type": "code",
   "execution_count": null,
   "metadata": {},
   "outputs": [],
   "source": [
    "<button v-on:click=\"test()\"> click here </button>  \n",
    "<h3 v-on:mousemove=\"cursorPos()\">hover here</h3>  "
   ]
  },
  {
   "cell_type": "markdown",
   "metadata": {},
   "source": [
    "#### Two Way Bind  \n",
    "<font color=\"teal\">binds model with view</font>  \n",
    "<font color=\"teal\">binds <font color='steelblue'><b><i>input</i></b></font>, <font color='steelblue'><b><i>textarea</i></b></font> and <font color='steelblue'><b><i>select elements</i></b></font> fields with data  \n",
    "<font color=\"teal\">changes in <i><b>model</b></i> will affect <i><b>view</b></i> immidiately</font>"
   ]
  },
  {
   "cell_type": "code",
   "execution_count": null,
   "metadata": {},
   "outputs": [],
   "source": [
    "<input type=\"text\" v-model=\"variable_name\" />\n",
    "<h3>{{variable_name}}</h3>   #changes in input field will change h3 text immidiately and vice-versa"
   ]
  },
  {
   "cell_type": "markdown",
   "metadata": {},
   "source": [
    "Get form data using two-way bind..."
   ]
  },
  {
   "cell_type": "code",
   "execution_count": null,
   "metadata": {},
   "outputs": [],
   "source": [
    "#fields in template\n",
    "<input type=\"text\" v-model=\"name\" />\n",
    "<input type=\"text\" v-model=\"id\" />\n",
    "<button type=\"button\" v-on:click=\"getData()\">Submit</button>\n",
    "    \n",
    "#in script\n",
    "export default{\n",
    "    data(){\n",
    "        return{\n",
    "            name:null,\n",
    "            id:null,\n",
    "        }\n",
    "    },\n",
    "    methods:{\n",
    "        getData(){\n",
    "            console.warn(\"name: \"+this.name+\" id: \"+this.id);\n",
    "        }\n",
    "    }\n",
    "}"
   ]
  },
  {
   "cell_type": "markdown",
   "metadata": {},
   "source": [
    "#### Conditional Rendering"
   ]
  },
  {
   "cell_type": "code",
   "execution_count": null,
   "metadata": {},
   "outputs": [],
   "source": [
    "#else works with previous if condition only\n",
    "<h2 v-if=\"show\">sample text</h2>\n",
    "<h3 v-else>other sample text</h3>\n",
    "<h3 v-if=\"name=='shuvro'\">another sample text</h3>\n",
    "\n",
    "<button type=\"button\" v-on:click=\"show=!show\">click here</button>\n",
    "data(){\n",
    "    return{\n",
    "        show:true,\n",
    "        name:'shuvro',\n",
    "    }\n",
    "}"
   ]
  },
  {
   "cell_type": "code",
   "execution_count": null,
   "metadata": {},
   "outputs": [],
   "source": []
  },
  {
   "cell_type": "code",
   "execution_count": null,
   "metadata": {},
   "outputs": [],
   "source": []
  }
 ],
 "metadata": {
  "kernelspec": {
   "display_name": "Python 3",
   "language": "python",
   "name": "python3"
  },
  "language_info": {
   "codemirror_mode": {
    "name": "ipython",
    "version": 3
   },
   "file_extension": ".py",
   "mimetype": "text/x-python",
   "name": "python",
   "nbconvert_exporter": "python",
   "pygments_lexer": "ipython3",
   "version": "3.7.6"
  }
 },
 "nbformat": 4,
 "nbformat_minor": 4
}
