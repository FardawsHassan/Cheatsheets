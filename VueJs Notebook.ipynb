{
 "cells": [
  {
   "cell_type": "markdown",
   "metadata": {},
   "source": [
    "### Installation"
   ]
  },
  {
   "cell_type": "markdown",
   "metadata": {},
   "source": [
    "Using CDN:  \n",
    "<font color='grey'>include this script in head.</font>  \n",
    "<font color='grey'>Shouldn't use in real projects</font>"
   ]
  },
  {
   "cell_type": "code",
   "execution_count": null,
   "metadata": {},
   "outputs": [],
   "source": [
    "<script src=\"https://cdn.jsdelivr.net/npm/vue@2.6.14/dist/vue.js\"></script>"
   ]
  },
  {
   "cell_type": "markdown",
   "metadata": {},
   "source": [
    "Using NPM:  \n",
    "<font color='grey'>install Node</font>"
   ]
  },
  {
   "cell_type": "code",
   "execution_count": null,
   "metadata": {},
   "outputs": [],
   "source": [
    "# latest stable\n",
    "npm install vue"
   ]
  },
  {
   "cell_type": "markdown",
   "metadata": {},
   "source": [
    "Using CLI:"
   ]
  },
  {
   "cell_type": "code",
   "execution_count": null,
   "metadata": {},
   "outputs": [],
   "source": [
    "# do it once\n",
    "npm install -g @vue/cli"
   ]
  },
  {
   "cell_type": "markdown",
   "metadata": {},
   "source": [
    "<font color='maroon'>CLI commands...</font>  \n",
    "<font color='cadetblue'>Create application:</font><font color='grey'> vue create appName</font>  \n",
    "<font color='cadetblue'>Run app:</font><font color='grey'> npm run serve</font>  "
   ]
  },
  {
   "cell_type": "markdown",
   "metadata": {},
   "source": [
    "### File Structure"
   ]
  },
  {
   "cell_type": "markdown",
   "metadata": {},
   "source": [
    "<font color='maroon'>node_modules</font>   \n",
    "<font color='maroon'>public</font>   \n",
    "<font color='teal'>--- favicon.ico</font>  \n",
    "<font color='teal'>--- index.html</font>  \n",
    "<font color='maroon'>src</font>  \n",
    "--- <font color='maroon'>assets</font>   \n",
    "--- <font color='maroon'>components</font>  \n",
    "--- <font color='teal'> app.vue</font>  \n",
    "--- <font color='teal'> main.js</font>  \n",
    "<font color='teal'>- .gitignore</font>  \n",
    "<font color='teal'>- bable.config.js</font>  \n",
    "<font color='teal'>- package-lock.json</font>  \n",
    "<font color='teal'>- package.json</font>  \n",
    "<font color='teal'>- readme.md</font>  \n",
    "   \n",
    "         \n",
    "<font color='steelblue'>--> package.json must not be deleted. Contains all details,dependencies,plugin etc about app.</font>  \n",
    "<font color='steelblue'>--> package-lock.json keeps track of package versions precisely</font>  \n",
    "<font color='steelblue'>--> babel used to convert javascript code in compatible version</font>  \n",
    "<font color='steelblue'>--> src/app.vue is the top level componenet and other secondary components are in src/components/ folder</font>    \n",
    "<font color='steelblue'>--> public/index.html is the first html file that loads.</font>  \n",
    "<font color='steelblue'>--> src/main.js is the first javascript file that loads.</font>  "
   ]
  },
  {
   "cell_type": "markdown",
   "metadata": {},
   "source": [
    "main.js... \n",
    "- creates app from component ( using createapp function ) \n",
    "- mounts it on a div"
   ]
  },
  {
   "cell_type": "markdown",
   "metadata": {},
   "source": [
    "include vue script at the last in html"
   ]
  },
  {
   "cell_type": "code",
   "execution_count": null,
   "metadata": {},
   "outputs": [],
   "source": []
  }
 ],
 "metadata": {
  "kernelspec": {
   "display_name": "Python 3",
   "language": "python",
   "name": "python3"
  },
  "language_info": {
   "codemirror_mode": {
    "name": "ipython",
    "version": 3
   },
   "file_extension": ".py",
   "mimetype": "text/x-python",
   "name": "python",
   "nbconvert_exporter": "python",
   "pygments_lexer": "ipython3",
   "version": "3.7.6"
  }
 },
 "nbformat": 4,
 "nbformat_minor": 4
}
