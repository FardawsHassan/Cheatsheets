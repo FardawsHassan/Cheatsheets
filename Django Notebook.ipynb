{
 "cells": [
  {
   "cell_type": "markdown",
   "metadata": {},
   "source": [
    "## Django 3.1 cheatsheet"
   ]
  },
  {
   "cell_type": "markdown",
   "metadata": {},
   "source": [
    "### Setup"
   ]
  },
  {
   "cell_type": "markdown",
   "metadata": {},
   "source": [
    "install `pipenv` virtual environment if not installed"
   ]
  },
  {
   "cell_type": "raw",
   "metadata": {},
   "source": [
    "pip3 install pipenv"
   ]
  },
  {
   "cell_type": "markdown",
   "metadata": {},
   "source": [
    "create Project folder and install `Django` using `pipenv`  \n",
    "it will create a virtual environment containing pipfile and pipfile.lock which will contain informations about projects"
   ]
  },
  {
   "cell_type": "raw",
   "metadata": {},
   "source": [
    "pipenv install django~=3.1.0"
   ]
  },
  {
   "cell_type": "markdown",
   "metadata": {},
   "source": [
    "activate and deactivate environment using those command"
   ]
  },
  {
   "cell_type": "raw",
   "metadata": {},
   "source": [
    "pipenv shell"
   ]
  },
  {
   "cell_type": "raw",
   "metadata": {},
   "source": [
    "exit"
   ]
  },
  {
   "cell_type": "markdown",
   "metadata": {},
   "source": [
    "### start project ###  \n",
    "it will create necessary Django files for your project  \n",
    "all your apps will use these files"
   ]
  },
  {
   "cell_type": "raw",
   "metadata": {},
   "source": [
    "django-admin startproject project_Name"
   ]
  },
  {
   "cell_type": "markdown",
   "metadata": {},
   "source": [
    "we can use modified file structure using . after project name"
   ]
  },
  {
   "cell_type": "raw",
   "metadata": {},
   "source": [
    "django-admin startproject config ."
   ]
  },
  {
   "cell_type": "markdown",
   "metadata": {},
   "source": [
    "### start app###  \n",
    "it will create necessary files for your app following model-view-templete structure    "
   ]
  },
  {
   "cell_type": "raw",
   "metadata": {},
   "source": [
    "python manage.py startapp name_of_app"
   ]
  },
  {
   "cell_type": "markdown",
   "metadata": {},
   "source": [
    "add your **app** to your Django project by  \n",
    "going to `config/settings.py` and add your app"
   ]
  },
  {
   "cell_type": "code",
   "execution_count": null,
   "metadata": {},
   "outputs": [],
   "source": [
    "#config/settings.py\n",
    "INSTALLED_APPS = [\n",
    "'django.contrib.admin',\n",
    "'django.contrib.auth',\n",
    "'django.contrib.contenttypes',\n",
    "'django.contrib.sessions',\n",
    "'django.contrib.messages',\n",
    "'django.contrib.staticfiles',\n",
    "'name_of_app', # add your app here\n",
    "]"
   ]
  },
  {
   "cell_type": "markdown",
   "metadata": {},
   "source": [
    "### modify endpoints / routes for app ###  \n",
    "( Optional )"
   ]
  },
  {
   "cell_type": "markdown",
   "metadata": {},
   "source": [
    "**create** `urls.py` in app folder  \n",
    "and add following codes  \n",
    "here you will import those classes of views.py and add connect them to their corresponding endpoints / routes"
   ]
  },
  {
   "cell_type": "code",
   "execution_count": null,
   "metadata": {},
   "outputs": [],
   "source": [
    "# app/urls.py\n",
    "from django.urls import path\n",
    "from .views import name_of_class  # add views\n",
    "\n",
    "\n",
    "urlpatterns = [\n",
    "path('', name_of_class.as_view(), name='home'),  # map views to endpoints\n",
    "]"
   ]
  },
  {
   "cell_type": "markdown",
   "metadata": {},
   "source": [
    "add the **urls.py** of your `app` to the **urls.py** of your `projects`"
   ]
  },
  {
   "cell_type": "code",
   "execution_count": null,
   "metadata": {},
   "outputs": [],
   "source": [
    "# config/urls.py\n",
    "from django.contrib import admin\n",
    "from django.urls import path, include # add include library\n",
    "\n",
    "\n",
    "urlpatterns = [\n",
    "path('admin/', admin.site.urls),\n",
    "path('', include('name_of_app.urls')), # add urls of app\n",
    "]"
   ]
  },
  {
   "cell_type": "markdown",
   "metadata": {},
   "source": [
    "This way, you can easily create sub-routes or sub domains`  \n",
    "  "
   ]
  },
  {
   "cell_type": "markdown",
   "metadata": {},
   "source": [
    "### Create Templetes"
   ]
  },
  {
   "cell_type": "markdown",
   "metadata": {},
   "source": [
    "**app level template :** Create folder as   \n",
    "`app_name` >> `templetes` >> `app_name`  "
   ]
  },
  {
   "cell_type": "markdown",
   "metadata": {},
   "source": [
    "  "
   ]
  },
  {
   "cell_type": "markdown",
   "metadata": {},
   "source": [
    "this is django default structure for templete,  \n",
    "All your app's templete will be placed here."
   ]
  },
  {
   "cell_type": "markdown",
   "metadata": {},
   "source": [
    "**project level templete and others :** \n",
    "    you can create project level templetes, static, media dir\n"
   ]
  },
  {
   "cell_type": "code",
   "execution_count": null,
   "metadata": {},
   "outputs": [],
   "source": [
    "# create \n",
    "#    templates\n",
    "#    static\n",
    "#    media\n",
    "#folder in root directory"
   ]
  },
  {
   "cell_type": "code",
   "execution_count": null,
   "metadata": {},
   "outputs": [],
   "source": [
    "#go to settings.py\n",
    "#add under BASE_DIR\n",
    "TEMPLATE_DIR = BASE_DIR.joinpath('templates')\n",
    "STATIC_DIR = BASE_DIR.joinpath('static')\n",
    "MEDIA_DIR = BASE_DIR.joinpath('media')"
   ]
  },
  {
   "cell_type": "code",
   "execution_count": null,
   "metadata": {},
   "outputs": [],
   "source": [
    "#add TEMPLATE_DIR in TEMPLATES list\n",
    "TEMPLATES = [\n",
    "    {\n",
    "        'BACKEND': 'django.template.backends.django.DjangoTemplates',\n",
    "        'DIRS': [str(TEMPLATE_DIR)], #here\n",
    "        'APP_DIRS': True,\n",
    "        'OPTIONS': {\n",
    "            'context_processors': [\n",
    "                'django.template.context_processors.debug',\n",
    "                'django.template.context_processors.request',\n",
    "                'django.contrib.auth.context_processors.auth',\n",
    "                'django.contrib.messages.context_processors.messages',\n",
    "            ],\n",
    "        },\n",
    "    },\n",
    "]"
   ]
  },
  {
   "cell_type": "code",
   "execution_count": null,
   "metadata": {},
   "outputs": [],
   "source": [
    "#below  STATIC_URL = '/static/'  add\n",
    "\n",
    "STATICFILES_DIRS = [\n",
    "    STATIC_DIR,\n",
    "]\n",
    "\n",
    "MEDIA_URL = '/media/'\n",
    "MEDIA_ROOT = MEDIA_DIR"
   ]
  },
  {
   "cell_type": "markdown",
   "metadata": {},
   "source": [
    "  "
   ]
  },
  {
   "cell_type": "markdown",
   "metadata": {},
   "source": [
    "  "
   ]
  },
  {
   "cell_type": "markdown",
   "metadata": {},
   "source": [
    "**now django project is ready and app is connected to django**"
   ]
  },
  {
   "cell_type": "markdown",
   "metadata": {},
   "source": [
    "  "
   ]
  },
  {
   "cell_type": "markdown",
   "metadata": {},
   "source": [
    "  "
   ]
  },
  {
   "cell_type": "markdown",
   "metadata": {},
   "source": [
    "  "
   ]
  },
  {
   "cell_type": "markdown",
   "metadata": {},
   "source": [
    "  "
   ]
  },
  {
   "cell_type": "markdown",
   "metadata": {},
   "source": [
    "  "
   ]
  },
  {
   "cell_type": "markdown",
   "metadata": {},
   "source": [
    "## Models"
   ]
  },
  {
   "cell_type": "markdown",
   "metadata": {},
   "source": [
    "Model contains the essential fields and behaviors of the data you’re storing...  \n",
    "It is a Python class that subclasses django.db.models.Model  \n",
    "Each Model will create a Table with fields"
   ]
  },
  {
   "cell_type": "code",
   "execution_count": null,
   "metadata": {},
   "outputs": [],
   "source": [
    "class Person(models.Model):\n",
    "    first_name = models.CharField(max_length=30)\n",
    "    last_name = models.CharField(max_length=30)"
   ]
  },
  {
   "cell_type": "markdown",
   "metadata": {},
   "source": [
    "### Meta class"
   ]
  },
  {
   "cell_type": "markdown",
   "metadata": {},
   "source": [
    "[abstract](https://docs.djangoproject.com/en/3.2/topics/db/models/#abstract-base-classes) -  if same field is needed in multiple models, then keep those fields in an abstract model class and inherit in other models.  \n",
    "[app_label](https://docs.djangoproject.com/en/3.2/ref/models/options/#app-label) -  if a model of other app is used, then we have to add that app name.  \n",
    "[db_table](https://docs.djangoproject.com/en/3.2/ref/models/options/#db-table) - change the table name in database. Table name in django will be the same, it will only change in database. Risk: MariaDB, Mysql and Oracle.  \n",
    "[verbose_name](https://docs.djangoproject.com/en/3.2/ref/models/options/#verbose-name) / [verbose_name_plural](https://docs.djangoproject.com/en/3.2/ref/models/options/#verbose-name-plural) - Change the displayed Table or Field name.   \n",
    "[get_latest_by](https://docs.djangoproject.com/en/3.2/ref/models/options/#get-latest-by) - Returns the last entried object in the table based on the given field(s).  \n",
    "[proxy](https://www.youtube.com/watch?v=RMFR3PiJrsI) - reference(&) copy of inherited model, but can add extra fields and functionalities to that model. Editing in proxy model will effect in inherited model, but editing in extra field and functions will not effect in base model. [documentation](https://docs.djangoproject.com/en/3.2/topics/db/models/#proxy-models)  \n",
    "[ordering](https://docs.djangoproject.com/en/3.2/ref/models/options/#get-latest-byhttps://docs.djangoproject.com/en/3.2/ref/models/options/#ordering) - returns query objects in order of different fields.   "
   ]
  },
  {
   "cell_type": "markdown",
   "metadata": {},
   "source": [
    "`base_manager_name`, `db_tablespace`, `_default_manager`, `default_related_name`, `order_with_respect_to `"
   ]
  },
  {
   "cell_type": "markdown",
   "metadata": {},
   "source": [
    "  "
   ]
  },
  {
   "cell_type": "markdown",
   "metadata": {},
   "source": [
    "### Fields"
   ]
  },
  {
   "cell_type": "markdown",
   "metadata": {},
   "source": [
    "***Integer***  \n",
    "*`default:` IntegerField( \\**options)*   \n",
    "*IntegerField(default=1,validators=[MaxValueValidator(100),MinValueValidator(1)])*      \n",
    "  \n",
    "*IntegerField()* ==> { -2147483648 to 2147483647 }   \n",
    "*BigIntegerField()* ==>  { -9223372036854775808 to 9223372036854775807 }   \n",
    "*SmallIntegerField()* ==> { -32768 to 32767 }  \n",
    "*PositiveIntegerField()* ==> { 0 to 2147483647 }   \n",
    "*PositiveSmallIntegerField()* ==> { 0 to 32767 }  \n",
    "*PositiveBigIntegerField()* ==> { 0 to 9223372036854775807 }   \n",
    "` - db_index`,` - db_tablespace`"
   ]
  },
  {
   "cell_type": "markdown",
   "metadata": {},
   "source": [
    "***Character***  \n",
    "*`default:` CharField(max_length=None, \\**options)     \n",
    "CharField(max_length=200)  \n",
    "CharField(max_length=200, Null=True, Blank=True )*   \n",
    "*TextField( \\**options)* ....... ` - db_index` and ` - db_tablespace`  \n",
    "- *try to avoid Null, creates confusion with empty string*  "
   ]
  },
  {
   "cell_type": "markdown",
   "metadata": {},
   "source": [
    "***Image***  \n",
    "*`default:` ImageField(upload_to=None, height_field=None, width_field=None, max_length=100, \\**options)*  \n",
    "*ImageField()*  \n",
    " - *default upload_to is media_root*   \n",
    " - *when deleting the object, image has to be deleted seperately*   "
   ]
  },
  {
   "cell_type": "markdown",
   "metadata": {},
   "source": [
    "***Date and Time***  \n",
    "*`default:` DateField(auto_now=False, auto_now_add=False, \\**options)*  \n",
    "*`default:` TimeField(auto_now=False, auto_now_add=False, \\**options)*  \n",
    "*`default:` DateTimeField(auto_now=False, auto_now_add=False, \\**options)*  \n",
    "[read article](https://www.jafoor.com/post/django-datetimefield-datefield/)  \n",
    "\n",
    "*created = models.DateTimeField(auto_now_add=True)*  \n",
    "*updated = models.DateTimeField(auto_now=True)*  \n",
    " - *auto_now* will update datetime each time the row is updated  \n",
    " - *auto_now_add* will create datetime only once, when the object is created \n",
    " - *`warning:`* - *DateField* and *TimeField* will save date according to local timezone  \n",
    " - *DateTimeField* will save datetime according to UTC timezone \n",
    " - use python DateTime module to customize date and time"
   ]
  },
  {
   "cell_type": "markdown",
   "metadata": {},
   "source": [
    "*UUIDField(primary_key=True, default=uuid.uuid4, editable=False)*   \n",
    "*`default:`UUIDField(\\**options)*   \n",
    "*`default:` URLField(max_length=200, \\**options)*  \n",
    "*`default:` EmailField(max_length=254, \\**options)*  "
   ]
  },
  {
   "cell_type": "markdown",
   "metadata": {},
   "source": [
    "**`remaining fields`**"
   ]
  },
  {
   "cell_type": "markdown",
   "metadata": {},
   "source": [
    "`AutoField` `SmallAutoField` `BigAutoField` `BinaryField` `BooleanField` `DecimalField` `DurationFiel` \n",
    "`FileField` `FilePathField` `FloatField` `GenericIPAddressField` `JSONField` `SlugField`"
   ]
  },
  {
   "cell_type": "markdown",
   "metadata": {},
   "source": [
    "  "
   ]
  },
  {
   "cell_type": "markdown",
   "metadata": {},
   "source": [
    "#### Field Options"
   ]
  },
  {
   "cell_type": "markdown",
   "metadata": {},
   "source": [
    "`Null(database releted)`,`Blank(validation releted)`,`db_index`,`db_tablespace`,`db_column(database column name)`,`Default`,`help_text`,`primary_key`,`editable`,`choices`,`error_messages`,  `verbose_name`,`validators`,`Unique`,`unique_for_date`,`unique_for_month`,`unique_for_year` "
   ]
  },
  {
   "cell_type": "markdown",
   "metadata": {},
   "source": [
    "  "
   ]
  },
  {
   "cell_type": "markdown",
   "metadata": {},
   "source": [
    "  "
   ]
  },
  {
   "cell_type": "markdown",
   "metadata": {},
   "source": [
    "  "
   ]
  },
  {
   "cell_type": "markdown",
   "metadata": {},
   "source": [
    "#### Register Model"
   ]
  },
  {
   "cell_type": "markdown",
   "metadata": {},
   "source": [
    "  "
   ]
  },
  {
   "cell_type": "markdown",
   "metadata": {},
   "source": [
    "  "
   ]
  },
  {
   "cell_type": "markdown",
   "metadata": {},
   "source": [
    "### Steps\n",
    "\n",
    "**\\* Create project**  \n",
    "**\\* Create app**  \n",
    "**\\* Add app to Project**  \n",
    "**\\* create urls.py in app**  \n",
    "**\\* include that to projects urls.py**  "
   ]
  },
  {
   "cell_type": "code",
   "execution_count": null,
   "metadata": {},
   "outputs": [],
   "source": []
  },
  {
   "cell_type": "code",
   "execution_count": null,
   "metadata": {},
   "outputs": [],
   "source": []
  },
  {
   "cell_type": "code",
   "execution_count": null,
   "metadata": {},
   "outputs": [],
   "source": []
  },
  {
   "cell_type": "code",
   "execution_count": null,
   "metadata": {},
   "outputs": [],
   "source": []
  },
  {
   "cell_type": "code",
   "execution_count": null,
   "metadata": {},
   "outputs": [],
   "source": []
  },
  {
   "cell_type": "markdown",
   "metadata": {},
   "source": [
    "### Froms in Django"
   ]
  },
  {
   "cell_type": "markdown",
   "metadata": {},
   "source": [
    "Create a form class according to the model class"
   ]
  },
  {
   "cell_type": "markdown",
   "metadata": {},
   "source": [
    "Two ways of creating form:\n",
    "    1. create instance of form class and pass it to template.\n",
    "    2. create form manually using Html"
   ]
  },
  {
   "cell_type": "markdown",
   "metadata": {},
   "source": [
    "Process form data:\n",
    "    \n",
    "    In views, catch the data using request.\n",
    "    create object of form class and pass the data in it.   \n",
    "    now manage the object as you need"
   ]
  },
  {
   "cell_type": "markdown",
   "metadata": {},
   "source": [
    "#### Relative URL"
   ]
  },
  {
   "cell_type": "markdown",
   "metadata": {},
   "source": [
    "    use `app_name` variable in `urls.py` of app to create a namespace for that app \n",
    "    this will differentiate url of different apps  \n",
    "    if we don't use it, then if two app has same urlname, the lastly listed url in projects url will act for that urlname when used in template"
   ]
  },
  {
   "cell_type": "markdown",
   "metadata": {},
   "source": [
    "#### Template Inheritance"
   ]
  },
  {
   "cell_type": "code",
   "execution_count": null,
   "metadata": {},
   "outputs": [],
   "source": [
    "<!-- base.html -->\n",
    "<!DOCTYPE html>\n",
    "<html>\n",
    "    <head>\n",
    "        <title>Blog Home</title>\n",
    "    </head>\n",
    "    <body>\n",
    "        {% block navbar %}\n",
    "        \n",
    "        {% endblock navbar %}\n",
    "\n",
    "        {% block footer %}\n",
    "        \n",
    "        {% endblock footer %}\n",
    "        \n",
    "    </body>\n",
    "</html>"
   ]
  },
  {
   "cell_type": "code",
   "execution_count": null,
   "metadata": {},
   "outputs": [],
   "source": [
    "#home.html\n",
    "# extend will copy all code from that html\n",
    "    #blocks in that html can be defined or not\n",
    "    #here only navbar will show, not footer\n",
    "    \n",
    "{% extends 'base.html' %}\n",
    "\n",
    "    {% block navbar %}\n",
    "        <h4> hello </h4>\n",
    "    {% endblock navbar %}\n"
   ]
  }
 ],
 "metadata": {
  "kernelspec": {
   "display_name": "Python 3",
   "language": "python",
   "name": "python3"
  },
  "language_info": {
   "codemirror_mode": {
    "name": "ipython",
    "version": 3
   },
   "file_extension": ".py",
   "mimetype": "text/x-python",
   "name": "python",
   "nbconvert_exporter": "python",
   "pygments_lexer": "ipython3",
   "version": "3.7.6"
  }
 },
 "nbformat": 4,
 "nbformat_minor": 4
}
